{
 "cells": [
  {
   "cell_type": "markdown",
   "id": "da87a8b4",
   "metadata": {},
   "source": [
    "Ans 1: an Exception is an event that interrupts the normal flow of a program and signals that something unexpected or erroneous has occurred. When an Exception occurs, Python generates an error message that provides information about the type of Exception, where it occurred in the program, and a traceback that shows the sequence of function calls that led up to the Exception.\n",
    "\n",
    "Syntax Errors occur when you have invalid Python syntax in your code. This could be a missing bracket, a misspelled keyword, or other syntax-related errors that prevent the code from running. \n",
    "\n",
    "Exceptions, on the other hand, occur during the execution of a program when something unexpected happens, such as dividing by zero, trying to access an invalid index of a list, or attempting to open a file that does not exist. Exceptions can be handled with try-except blocks, allowing you to gracefully handle errors and continue execution of the program. Unlike Syntax Errors, Exceptions can occur at runtime, even if your code is syntactically correct."
   ]
  },
  {
   "cell_type": "markdown",
   "id": "716f4e72",
   "metadata": {},
   "source": [
    "Ans 2: When an Exception is not handled in a Python program, it causes the program to terminate abruptly with an error message. This means that any code that comes after the point where the Exception occurred will not be executed.\n",
    "\n",
    "try:\n",
    "   num=1/0\n",
    "except ZerodivisionError:\n",
    "    print(\"Cannot divide the number by zero\")\n",
    "    \n",
    "In this code, we're trying to divide 1 by 0, which is not allowed in Python and will raise a ZeroDivisionError Exception. However, in the except block, we are only handling NameError Exceptions, not ZeroDivisionError. As a result, when the code is executed, the ZeroDivisionError Exception is raised but not caught, causing the program to terminate with an error message:\n"
   ]
  },
  {
   "cell_type": "markdown",
   "id": "d7eea89a",
   "metadata": {},
   "source": [
    "Ans 3: In Python, the try and except statements are used to catch and handle Exceptions. The try block contains the code that may raise an Exception, and the except block contains the code that will handle the Exception if it is raised.\n",
    "\n",
    "try:\n",
    "    x = int(input(\"Enter a number: \"))\n",
    "    y = int(input(\"Enter another number: \"))\n",
    "    z = x / y\n",
    "    print(\"The result of the division is:\", z)\n",
    "except ValueError:\n",
    "    print(\"Invalid input! Please enter a valid number.\")\n",
    "except ZeroDivisionError:\n",
    "    print(\"Cannot divide by zero!\")\n",
    "\n",
    "In this example, we're trying to perform a division operation with two numbers that are input by the user. However, there are two possible Exceptions that could be raised: a ValueError if the user enters something that is not a number, and a ZeroDivisionError if the user enters 0 as the second number.\n",
    "\n",
    "To handle these Exceptions, we use try and except statements. The try block contains the code that may raise an Exception (in this case, the division operation), and the except blocks contain the code that will handle the specific Exceptions that may occur.\n",
    "\n",
    "If a ValueError is raised (for example, if the user enters \"hello\" instead of a number), the code in the first except block will be executed and an error message will be displayed. If a ZeroDivisionError is raised (for example, if the user enters 0 as the second number), the code in the second except block will be executed and a different error message will be displayed."
   ]
  },
  {
   "cell_type": "markdown",
   "id": "f51ea966",
   "metadata": {},
   "source": [
    "Ans 4:\n",
    "a)try and else\n",
    "\n",
    "try:\n",
    "    no=int(input(\"Enter the number\"))\n",
    "    z=no/10\n",
    "except Exception as e:\n",
    "    print(e)\n",
    "else:\n",
    "    print(z)\n",
    "    \n",
    "In the above example,if the try block is succefully executed then only else block will be excetued.First it took 'no' as input then it is divided by 10.It is succefully executed then it will come to else block then print z.\n",
    "\n",
    "b)finally\n",
    "\n",
    "try:\n",
    "    no=int(input(\"Enter the number\"))\n",
    "    z=no/10\n",
    "except Exception as e:\n",
    "    print(e)\n",
    "else:\n",
    "    print(z)\n",
    "finally:\n",
    "       print(\"This block will always be executed irrespective of error\")\n",
    "       \n",
    "c) raise\n",
    "\n",
    "class MyCustomException(Exception):\n",
    "    pass\n",
    "\n",
    "try:\n",
    "    x = int(input(\"Enter a number: \"))\n",
    "    if x < 0:\n",
    "        raise MyCustomException(\"Number must be positive!\")\n",
    "    else:\n",
    "        print(\"The number is:\", x)\n",
    "except MyCustomException as e:\n",
    "    print(\"An error occurred:\", e)\n"
   ]
  },
  {
   "cell_type": "markdown",
   "id": "7967a8fe",
   "metadata": {},
   "source": [
    "Ans 5:\n",
    "Custom exceptions in Python are user-defined exceptions that allow you to define your own types of exceptions to handle specific errors in your code. You may want to create a custom exception if you need to provide additional information about the error that occurred or if you want to group similar types of exceptions together.\n",
    "\n",
    "We need custom exceptions because built-in exceptions may not always provide enough context to diagnose and handle specific issues that can occur in our program. By creating custom exceptions, we can provide more meaningful error messages to users and improve the overall readability and maintainability of our code.\n",
    "\n",
    "class InvalidInputError(Exception):\n",
    "    def __init__(self, message):\n",
    "        self.message = message\n",
    "\n",
    "try:\n",
    "    x = int(input(\"Enter a number greater than 5: \"))\n",
    "    if x <= 5:\n",
    "        raise InvalidInputError(\"Number should be greater than 5.\")\n",
    "except InvalidInputError as error:\n",
    "    print(error.message)\n"
   ]
  },
  {
   "cell_type": "markdown",
   "id": "3a64c825",
   "metadata": {},
   "source": [
    "Ans 6:\n",
    "class validateage(Exception):\n",
    "    def __init__(self,msg):\n",
    "        self.msg=msg\n",
    "        \n",
    "def validateage(age):\n",
    "    if age<0:\n",
    "        raise validateage(\"Entered Age is neagtive \")\n",
    "    elif age > 200:\n",
    "        raise validateage(\"Entered age is more\")\n",
    "    else:\n",
    "        print(\"Age is valid\")\n",
    "\n",
    "try:\n",
    "    age=int(input(\"Enter the age\"))\n",
    "    validateage(age)\n",
    "except validateage as e:\n",
    "    print(e)\n",
    "    "
   ]
  }
 ],
 "metadata": {
  "kernelspec": {
   "display_name": "Python 3 (ipykernel)",
   "language": "python",
   "name": "python3"
  },
  "language_info": {
   "codemirror_mode": {
    "name": "ipython",
    "version": 3
   },
   "file_extension": ".py",
   "mimetype": "text/x-python",
   "name": "python",
   "nbconvert_exporter": "python",
   "pygments_lexer": "ipython3",
   "version": "3.9.13"
  }
 },
 "nbformat": 4,
 "nbformat_minor": 5
}
